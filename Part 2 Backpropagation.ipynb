{
 "cells": [
  {
   "cell_type": "code",
   "execution_count": 79,
   "metadata": {},
   "outputs": [],
   "source": [
    "original = []"
   ]
  },
  {
   "cell_type": "code",
   "execution_count": 99,
   "metadata": {},
   "outputs": [
    {
     "name": "stdout",
     "output_type": "stream",
     "text": [
      "## loaded data:\n",
      "         number of instances: 60000 in training, 10000 in validation\n",
      " training class distribution: [32546 27454]\n",
      "     val. class distribution: [5477 4523]\n",
      "\n",
      "## Starting training\n",
      "epoch 000\n",
      "       accuracy: 0.4523\n",
      "   running loss: 1.957e+04\n",
      "epoch 001\n",
      "       accuracy: 0.9671\n",
      "   running loss: 6.325e+03\n",
      "epoch 002\n",
      "       accuracy: 0.9699\n",
      "   running loss: 5.214e+03\n",
      "epoch 003\n",
      "       accuracy: 0.9798\n",
      "   running loss: 2.77e+03\n",
      "epoch 004\n",
      "       accuracy: 0.9854\n",
      "   running loss: 2.4e+03\n",
      "epoch 005\n",
      "       accuracy: 0.9857\n",
      "   running loss: 2.146e+03\n",
      "epoch 006\n",
      "       accuracy: 0.9884\n",
      "   running loss: 1.799e+03\n",
      "epoch 007\n",
      "       accuracy: 0.9893\n",
      "   running loss: 1.427e+03\n",
      "epoch 008\n",
      "       accuracy: 0.9932\n",
      "   running loss: 1.354e+03\n",
      "epoch 009\n",
      "       accuracy: 0.9938\n",
      "   running loss: 1.296e+03\n",
      "epoch 010\n",
      "       accuracy: 0.9941\n",
      "   running loss: 1.248e+03\n",
      "epoch 011\n",
      "       accuracy: 0.9945\n",
      "   running loss: 1.21e+03\n",
      "epoch 012\n",
      "       accuracy: 0.9947\n",
      "   running loss: 1.179e+03\n",
      "epoch 013\n",
      "       accuracy: 0.9945\n",
      "   running loss: 1.155e+03\n",
      "epoch 014\n",
      "       accuracy: 0.9945\n",
      "   running loss: 1.134e+03\n",
      "epoch 015\n",
      "       accuracy: 0.9947\n",
      "   running loss: 1.117e+03\n",
      "epoch 016\n",
      "       accuracy: 0.9946\n",
      "   running loss: 1.101e+03\n",
      "epoch 017\n",
      "       accuracy: 0.9946\n",
      "   running loss: 1.087e+03\n",
      "epoch 018\n",
      "       accuracy: 0.9945\n",
      "   running loss: 1.075e+03\n",
      "epoch 019\n",
      "       accuracy: 0.9944\n",
      "   running loss: 1.064e+03\n"
     ]
    }
   ],
   "source": [
    "%run vugrad/experiments/train_mlp.py"
   ]
  },
  {
   "cell_type": "code",
   "execution_count": 100,
   "metadata": {},
   "outputs": [],
   "source": [
    "original.append(trainloss)"
   ]
  },
  {
   "cell_type": "code",
   "execution_count": null,
   "metadata": {},
   "outputs": [],
   "source": [
    "%run vugrad/experiments/train_mlp.py -D mnist -l 0.0001"
   ]
  },
  {
   "cell_type": "code",
   "execution_count": 2,
   "metadata": {},
   "outputs": [],
   "source": [
    "sig_onelayer_accuracy = accuracy\n",
    "sig_onelayer_trainloss = trainloss"
   ]
  },
  {
   "cell_type": "code",
   "execution_count": null,
   "metadata": {},
   "outputs": [],
   "source": [
    "import vugrad as vg\n",
    "import numpy as np"
   ]
  },
  {
   "cell_type": "markdown",
   "metadata": {},
   "source": [
    "# Question 5"
   ]
  },
  {
   "cell_type": "code",
   "execution_count": null,
   "metadata": {},
   "outputs": [],
   "source": [
    "a = vg.TensorNode(np.random.randn(2, 2)) \n",
    "b = vg.TensorNode(np.random.randn(2, 2)) "
   ]
  },
  {
   "cell_type": "code",
   "execution_count": null,
   "metadata": {},
   "outputs": [],
   "source": [
    "c = a+b"
   ]
  },
  {
   "cell_type": "code",
   "execution_count": null,
   "metadata": {},
   "outputs": [],
   "source": [
    "c.value"
   ]
  },
  {
   "cell_type": "code",
   "execution_count": null,
   "metadata": {},
   "outputs": [],
   "source": [
    "c.source"
   ]
  },
  {
   "cell_type": "code",
   "execution_count": null,
   "metadata": {},
   "outputs": [],
   "source": [
    "c = vg.TensorNode.__add__(a,b)\n",
    "c = a+b"
   ]
  },
  {
   "cell_type": "code",
   "execution_count": null,
   "metadata": {},
   "outputs": [],
   "source": [
    "c.source.inputs[0]"
   ]
  },
  {
   "cell_type": "code",
   "execution_count": null,
   "metadata": {},
   "outputs": [],
   "source": [
    "a.grad"
   ]
  },
  {
   "cell_type": "markdown",
   "metadata": {},
   "source": [
    "### 1) What does $c.value$ contain?\n",
    "\n",
    "A: A numpy array about the outcome of tensornode operation \n",
    "\n",
    "### 2) What does $c.source$ refer to?\n",
    "\n",
    "A: The Opnode that created this tensor node. In this case, the opnode is \"+\", the addition of Python Arithmetic Operators\n",
    "\n",
    "### 3) What does $c.source.inputs[0]$.value refer to?\n",
    "\n",
    "A: The first input of this Opnode a.k.a. tensornode \"a\"\n",
    "\n",
    "### 4) What does $a.grad$ refer to? What is its current value?\n",
    "\n",
    "A: The place (zero) matrix we will put the gradient when we compute the loss. Current value:\n",
    "\n",
    "\\begin{equation*}\n",
    "a.grad = \\begin{bmatrix}\n",
    "0 & 0 \\\\ 0 & 0 \n",
    "\\end{bmatrix}\n",
    "\\end{equation*}"
   ]
  },
  {
   "cell_type": "markdown",
   "metadata": {},
   "source": [
    "# Question 6"
   ]
  },
  {
   "cell_type": "markdown",
   "metadata": {},
   "source": [
    "##### 1) An OpNode is defined by its inputs, its outputs and the specific operation it represents (i.e. summation, multiplication). What kind of object defines this operation?\n",
    "\n",
    "A: From $super()$, we could know it inherit TensorNode. \n",
    "\n",
    "-$Op$: operation (forward and backward function), \n",
    "\n",
    "-$context$: dictionary for depositing variable during forward/backward (anything we may need to remember for the backward pass), \n",
    "\n",
    "-$input/output$: tensornode\n",
    "\n",
    "##### 2) In the computation graph of question 5, we ultimately added one numpy array to another (albeit wrapped in a lot of other code). In which line of code is the actual addition performed?\n",
    "\n",
    "A:\n",
    "\n",
    "```85: other = TensorNode(np.asarray(other)) /leftarrow in TensorNode-__add__```\n",
    "\n",
    "##### 3) When an OpNode is created, its inputs are immediately set, together with a reference to the op that is being computed. The pointer to the output node(s) is left None at first. Why is this? In which line is the OpNode connected to the output nodes?\n",
    "\n",
    "A: Making output nodes as None constraint the the output that we expect rather than unprediciable value from other opnodes. \n",
    "\"self.outputs = None\" for definition\n",
    "\n",
    "```211: outputs = [TensorNode(value=output, source=opnode) for output in outputs_raw] ```\n"
   ]
  },
  {
   "cell_type": "markdown",
   "metadata": {},
   "source": [
    "# Question 7"
   ]
  },
  {
   "cell_type": "markdown",
   "metadata": {},
   "source": [
    "##### Ultimately, this leads to the backward() functions of the relevant Op s being called, which do the actual computation. In which line of the code does this happen?\n",
    "\n",
    "231: def backward(context : dict, *goutput): \n",
    "\n",
    "but the backward formula needs to be called by the Ops"
   ]
  },
  {
   "cell_type": "markdown",
   "metadata": {},
   "source": [
    "### Question 8\n",
    "\n",
    "##### the given forward, derive the backward, and show that it matches what is implemented."
   ]
  },
  {
   "cell_type": "markdown",
   "metadata": {},
   "source": [
    "Implment of operator: $Expand(Op)$"
   ]
  },
  {
   "cell_type": "code",
   "execution_count": 10,
   "metadata": {},
   "outputs": [],
   "source": [
    "from vugrad.vugrad.core import Op\n",
    "import numpy as np\n",
    "context = {}\n",
    "class Expand(Op):\n",
    "    \"\"\"\n",
    "    Expand a singleton dimension in the input (that is, repeat the input a number of times along a given dimension of\n",
    "    size 1, as is done in broadcasting).\n",
    "    \"\"\"\n",
    "\n",
    "    @staticmethod\n",
    "    def forward(context, input, *, dim, repeats):\n",
    "        context['dim'] = dim\n",
    "\n",
    "        assert input.shape[dim] == 1, 'Can only expand singleton dimensions'\n",
    "\n",
    "        return np.repeat(input, repeats, axis=dim)\n",
    "\n",
    "    @staticmethod\n",
    "    def backward(context, goutput):\n",
    "        dim = context['dim']\n",
    "\n",
    "        return goutput.sum(axis=dim, keepdims=True)"
   ]
  },
  {
   "cell_type": "code",
   "execution_count": 11,
   "metadata": {},
   "outputs": [],
   "source": [
    "tryinput = np.array([[1,-1,-100,3]])\n",
    "operation=Expand()"
   ]
  },
  {
   "cell_type": "code",
   "execution_count": 12,
   "metadata": {},
   "outputs": [
    {
     "data": {
      "text/plain": [
       "array([[   1,   -1, -100,    3],\n",
       "       [   1,   -1, -100,    3],\n",
       "       [   1,   -1, -100,    3],\n",
       "       [   1,   -1, -100,    3],\n",
       "       [   1,   -1, -100,    3],\n",
       "       [   1,   -1, -100,    3],\n",
       "       [   1,   -1, -100,    3],\n",
       "       [   1,   -1, -100,    3],\n",
       "       [   1,   -1, -100,    3],\n",
       "       [   1,   -1, -100,    3]])"
      ]
     },
     "execution_count": 12,
     "metadata": {},
     "output_type": "execute_result"
    }
   ],
   "source": [
    "operation.forward(context,tryinput,dim=0, repeats=10)"
   ]
  },
  {
   "cell_type": "code",
   "execution_count": 13,
   "metadata": {},
   "outputs": [
    {
     "data": {
      "text/plain": [
       "array([[   10,   -10, -1000,    30]])"
      ]
     },
     "execution_count": 13,
     "metadata": {},
     "output_type": "execute_result"
    }
   ],
   "source": [
    "output = operation.forward(context,tryinput,dim=0, repeats=10)\n",
    "operation.backward(context,output)"
   ]
  },
  {
   "cell_type": "markdown",
   "metadata": {},
   "source": [
    "# Question 9 \n",
    "\n",
    "##### Retrain the network. Compare the validation accuracy of the Sigmoid and the ReLU versions."
   ]
  },
  {
   "cell_type": "markdown",
   "metadata": {},
   "source": [
    "Note: I copied the whole file \"vugrad\" in Assignment 2,and according to various manipulation I worked on specific \"vugrad_xxx\". Then run the model training repectively."
   ]
  },
  {
   "cell_type": "code",
   "execution_count": 5,
   "metadata": {},
   "outputs": [
    {
     "name": "stdout",
     "output_type": "stream",
     "text": [
      "## loaded data:\n",
      "         number of instances: 60000 in training, 10000 in validation\n",
      " training class distribution: [32875 27125]\n",
      "     val. class distribution: [5467 4533]\n",
      "\n",
      "## Starting training\n",
      "epoch 000\n",
      "       accuracy: 0.4533\n",
      "   running loss: 3.567e+04\n",
      "epoch 001\n",
      "       accuracy: 0.9727\n",
      "   running loss: 5.382e+03\n",
      "epoch 002\n",
      "       accuracy: 0.9749\n",
      "   running loss: 3.67e+03\n",
      "epoch 003\n",
      "       accuracy: 0.9842\n",
      "   running loss: 2.814e+03\n",
      "epoch 004\n",
      "       accuracy: 0.9854\n",
      "   running loss: 2.525e+03\n",
      "epoch 005\n",
      "       accuracy: 0.9882\n",
      "   running loss: 2.333e+03\n",
      "epoch 006\n",
      "       accuracy: 0.9892\n",
      "   running loss: 2.23e+03\n",
      "epoch 007\n",
      "       accuracy: 0.9896\n",
      "   running loss: 2.157e+03\n",
      "epoch 008\n",
      "       accuracy: 0.9899\n",
      "   running loss: 2.102e+03\n",
      "epoch 009\n",
      "       accuracy: 0.9903\n",
      "   running loss: 2.063e+03\n",
      "epoch 010\n",
      "       accuracy: 0.9905\n",
      "   running loss: 2.029e+03\n",
      "epoch 011\n",
      "       accuracy: 0.9902\n",
      "   running loss: 2.003e+03\n",
      "epoch 012\n",
      "       accuracy: 0.9899\n",
      "   running loss: 1.98e+03\n",
      "epoch 013\n",
      "       accuracy: 0.99\n",
      "   running loss: 1.962e+03\n",
      "epoch 014\n",
      "       accuracy: 0.99\n",
      "   running loss: 1.948e+03\n",
      "epoch 015\n",
      "       accuracy: 0.9899\n",
      "   running loss: 1.939e+03\n",
      "epoch 016\n",
      "       accuracy: 0.9901\n",
      "   running loss: 1.933e+03\n",
      "epoch 017\n",
      "       accuracy: 0.99\n",
      "   running loss: 1.927e+03\n",
      "epoch 018\n",
      "       accuracy: 0.9899\n",
      "   running loss: 1.922e+03\n",
      "epoch 019\n",
      "       accuracy: 0.9898\n",
      "   running loss: 1.917e+03\n"
     ]
    }
   ],
   "source": [
    "%run vugrad_relu/experiments/train_mlp.py"
   ]
  },
  {
   "cell_type": "code",
   "execution_count": 6,
   "metadata": {},
   "outputs": [],
   "source": [
    "relu_onelayer_accuracy = accuracy\n",
    "relu_onelayer_trainloss = trainloss"
   ]
  },
  {
   "cell_type": "markdown",
   "metadata": {},
   "source": [
    "### Relu activation\n",
    "```\n",
    "epoch 000\n",
    "       accuracy: 0.4446\n",
    "   running loss: 1.655e+05\n",
    "epoch 001\n",
    "       accuracy: 0.4571\n",
    "   running loss: 1.629e+05\n",
    "epoch 002\n",
    "       accuracy: 0.4571\n",
    "   running loss: 1.66e+05\n",
    "epoch 003\n",
    "       accuracy: 0.4571\n",
    "   running loss: 1.65e+05\n",
    "epoch 004\n",
    "       accuracy: 0.4571\n",
    "   running loss: 1.649e+05\n",
    "epoch 005\n",
    "       accuracy: 0.4571\n",
    "   running loss: 1.649e+05\n",
    "epoch 006\n",
    "       accuracy: 0.4571\n",
    "   running loss: 1.649e+05\n",
    "epoch 007\n",
    "       accuracy: 0.4571\n",
    "   running loss: 1.649e+05\n",
    "epoch 008\n",
    "       accuracy: 0.4571\n",
    "   running loss: 1.649e+05\n",
    "epoch 009\n",
    "       accuracy: 0.4571\n",
    "   running loss: 1.649e+05\n",
    "epoch 010\n",
    "       accuracy: 0.4571\n",
    "   running loss: 1.649e+05\n",
    "epoch 011\n",
    "       accuracy: 0.4571\n",
    "   running loss: 1.649e+05\n",
    "epoch 012\n",
    "       accuracy: 0.4571\n",
    "   running loss: 1.649e+05\n",
    "epoch 013\n",
    "       accuracy: 0.4571\n",
    "   running loss: 1.649e+05\n",
    "epoch 014\n",
    "       accuracy: 0.4571\n",
    "   running loss: 1.649e+05\n",
    "epoch 015\n",
    "       accuracy: 0.4571\n",
    "   running loss: 1.649e+05\n",
    "epoch 016\n",
    "       accuracy: 0.4571\n",
    "   running loss: 1.649e+05\n",
    "epoch 017\n",
    "       accuracy: 0.4571\n",
    "   running loss: 1.649e+05\n",
    "epoch 018\n",
    "       accuracy: 0.4571\n",
    "   running loss: 1.649e+05\n",
    "epoch 019\n",
    "       accuracy: 0.4571\n",
    "   running loss: 1.649e+05\n",
    "   ```\n",
    "   \n",
    "### Sigmoid activation\n",
    "```\n",
    "epoch 000\n",
    "       accuracy: 0.3963\n",
    "   running loss: 1.7e+05\n",
    "epoch 001\n",
    "       accuracy: 0.5445\n",
    "   running loss: 1.701e+05\n",
    "epoch 002\n",
    "       accuracy: 0.5445\n",
    "   running loss: 1.701e+05\n",
    "epoch 003\n",
    "       accuracy: 0.5445\n",
    "   running loss: 1.701e+05\n",
    "epoch 004\n",
    "       accuracy: 0.5445\n",
    "   running loss: 1.701e+05\n",
    "epoch 005\n",
    "       accuracy: 0.5445\n",
    "   running loss: 1.701e+05\n",
    "epoch 006\n",
    "       accuracy: 0.5445\n",
    "   running loss: 1.701e+05\n",
    "epoch 007\n",
    "       accuracy: 0.5445\n",
    "   running loss: 1.701e+05\n",
    "epoch 008\n",
    "       accuracy: 0.5445\n",
    "   running loss: 1.701e+05\n",
    "epoch 009\n",
    "       accuracy: 0.5445\n",
    "   running loss: 1.701e+05\n",
    "epoch 010\n",
    "       accuracy: 0.5445\n",
    "   running loss: 1.701e+05\n",
    "epoch 011\n",
    "       accuracy: 0.5445\n",
    "   running loss: 1.701e+05\n",
    "epoch 012\n",
    "       accuracy: 0.5445\n",
    "   running loss: 1.701e+05\n",
    "epoch 013\n",
    "       accuracy: 0.5445\n",
    "   running loss: 1.701e+05\n",
    "epoch 014\n",
    "       accuracy: 0.5445\n",
    "   running loss: 1.701e+05\n",
    "epoch 015\n",
    "       accuracy: 0.5445\n",
    "   running loss: 1.701e+05\n",
    "epoch 016\n",
    "       accuracy: 0.5445\n",
    "   running loss: 1.701e+05\n",
    "epoch 017\n",
    "       accuracy: 0.5445\n",
    "   running loss: 1.701e+05\n",
    "epoch 018\n",
    "       accuracy: 0.5445\n",
    "   running loss: 1.701e+05\n",
    "epoch 019\n",
    "       accuracy: 0.5445\n",
    "   running loss: 1.701e+05\n",
    "   ```"
   ]
  },
  {
   "cell_type": "markdown",
   "metadata": {},
   "source": [
    "## Momentum term\n",
    "\n",
    "$V_{dw} = 0, \\beta = 0.9$\n",
    "\n",
    "$V_{dw} = \\beta V_{dw} + (1-\\beta)dw$\n",
    "\n",
    "$V_{db} = \\beta V_{db} + (1-\\beta)db$\n",
    "\n",
    "$W = W - \\alpha * V_{dw}$\n",
    "\n",
    "$B = B - \\alpha * V_{db}$"
   ]
  },
  {
   "cell_type": "code",
   "execution_count": 103,
   "metadata": {},
   "outputs": [
    {
     "name": "stdout",
     "output_type": "stream",
     "text": [
      "## loaded data:\n",
      "         number of instances: 60000 in training, 10000 in validation\n",
      " training class distribution: [32707 27293]\n",
      "     val. class distribution: [5474 4526]\n",
      "\n",
      "## Starting training\n",
      "epoch 000\n",
      "       accuracy: 0.4526\n",
      "   running loss: 4.374e+04\n",
      "epoch 001\n",
      "       accuracy: 0.4526\n",
      "   running loss: 4.372e+04\n",
      "epoch 002\n",
      "       accuracy: 0.4526\n",
      "   running loss: 4.372e+04\n",
      "epoch 003\n",
      "       accuracy: 0.4526\n",
      "   running loss: 4.372e+04\n",
      "epoch 004\n",
      "       accuracy: 0.4526\n",
      "   running loss: 4.372e+04\n",
      "epoch 005\n",
      "       accuracy: 0.4526\n",
      "   running loss: 4.372e+04\n",
      "epoch 006\n",
      "       accuracy: 0.4526\n",
      "   running loss: 4.372e+04\n",
      "epoch 007\n",
      "       accuracy: 0.4526\n",
      "   running loss: 4.372e+04\n",
      "epoch 008\n",
      "       accuracy: 0.4526\n",
      "   running loss: 4.372e+04\n",
      "epoch 009\n",
      "       accuracy: 0.4526\n",
      "   running loss: 4.372e+04\n",
      "epoch 010\n",
      "       accuracy: 0.4526\n",
      "   running loss: 4.372e+04\n",
      "epoch 011\n",
      "       accuracy: 0.4526\n",
      "   running loss: 4.372e+04\n",
      "epoch 012\n",
      "       accuracy: 0.4526\n",
      "   running loss: 4.372e+04\n",
      "epoch 013\n",
      "       accuracy: 0.4526\n",
      "   running loss: 4.372e+04\n",
      "epoch 014\n",
      "       accuracy: 0.4526\n",
      "   running loss: 4.372e+04\n",
      "epoch 015\n",
      "       accuracy: 0.4526\n",
      "   running loss: 4.372e+04\n",
      "epoch 016\n",
      "       accuracy: 0.4526\n",
      "   running loss: 4.372e+04\n",
      "epoch 017\n",
      "       accuracy: 0.4526\n",
      "   running loss: 4.372e+04\n",
      "epoch 018\n",
      "       accuracy: 0.4526\n",
      "   running loss: 4.372e+04\n",
      "epoch 019\n",
      "       accuracy: 0.4526\n",
      "   running loss: 4.372e+04\n"
     ]
    }
   ],
   "source": [
    "%run vugrad_momentum/experiments/train_mlp.py"
   ]
  },
  {
   "cell_type": "code",
   "execution_count": 29,
   "metadata": {},
   "outputs": [],
   "source": [
    "relu_onelayer_momentum_accuracy = accuracy\n",
    "relu_onelayer_momentum_trainloss = trainloss"
   ]
  },
  {
   "cell_type": "markdown",
   "metadata": {},
   "source": [
    "## Two layers (1st: Relu, 2nd: Sigmoid)"
   ]
  },
  {
   "cell_type": "code",
   "execution_count": 44,
   "metadata": {},
   "outputs": [
    {
     "name": "stdout",
     "output_type": "stream",
     "text": [
      "## loaded data:\n",
      "         number of instances: 60000 in training, 10000 in validation\n",
      " training class distribution: [32906 27094]\n",
      "     val. class distribution: [5356 4644]\n",
      "\n",
      "## Starting training\n",
      "epoch 000\n",
      "       accuracy: 0.4644\n",
      "   running loss: 8.469e+04\n",
      "epoch 001\n",
      "       accuracy: 0.7273\n",
      "   running loss: 2.161e+04\n",
      "epoch 002\n",
      "       accuracy: 0.9605\n",
      "   running loss: 6.376e+03\n",
      "epoch 003\n",
      "       accuracy: 0.9625\n",
      "   running loss: 6.295e+03\n",
      "epoch 004\n",
      "       accuracy: 0.9629\n",
      "   running loss: 6.261e+03\n",
      "epoch 005\n",
      "       accuracy: 0.9628\n",
      "   running loss: 5.878e+03\n",
      "epoch 006\n",
      "       accuracy: 0.9673\n",
      "   running loss: 4.855e+03\n",
      "epoch 007\n",
      "       accuracy: 0.9749\n",
      "   running loss: 3.378e+03\n",
      "epoch 008\n",
      "       accuracy: 0.9851\n",
      "   running loss: 2.783e+03\n",
      "epoch 009\n",
      "       accuracy: 0.9863\n",
      "   running loss: 2.348e+03\n",
      "epoch 010\n",
      "       accuracy: 0.9832\n",
      "   running loss: 1.845e+03\n",
      "epoch 011\n",
      "       accuracy: 0.9846\n",
      "   running loss: 1.778e+03\n",
      "epoch 012\n",
      "       accuracy: 0.9853\n",
      "   running loss: 1.734e+03\n",
      "epoch 013\n",
      "       accuracy: 0.9844\n",
      "   running loss: 1.703e+03\n",
      "epoch 014\n",
      "       accuracy: 0.9835\n",
      "   running loss: 1.675e+03\n",
      "epoch 015\n",
      "       accuracy: 0.9802\n",
      "   running loss: 1.597e+03\n",
      "epoch 016\n",
      "       accuracy: 0.9786\n",
      "   running loss: 1.491e+03\n",
      "epoch 017\n",
      "       accuracy: 0.9817\n",
      "   running loss: 1.433e+03\n",
      "epoch 018\n",
      "       accuracy: 0.9828\n",
      "   running loss: 1.407e+03\n",
      "epoch 019\n",
      "       accuracy: 0.983\n",
      "   running loss: 1.396e+03\n"
     ]
    }
   ],
   "source": [
    "%run vugrad_twolayer/experiments/train_mlp.py"
   ]
  },
  {
   "cell_type": "code",
   "execution_count": 45,
   "metadata": {},
   "outputs": [],
   "source": [
    "relu_twolayer_relu_sig_accuracy = accuracy\n",
    "relu_twolayer_relu_sig_trainloss = trainloss"
   ]
  },
  {
   "cell_type": "markdown",
   "metadata": {},
   "source": [
    "## Residual connection\n",
    "\n",
    "$y = F(x,{W_i})+W_sx$"
   ]
  },
  {
   "cell_type": "code",
   "execution_count": 3,
   "metadata": {},
   "outputs": [
    {
     "name": "stdout",
     "output_type": "stream",
     "text": [
      "## loaded data:\n",
      "         number of instances: 60000 in training, 10000 in validation\n",
      " training class distribution: [32805 27195]\n",
      "     val. class distribution: [5359 4641]\n",
      "\n",
      "## Starting training\n",
      "epoch 000\n",
      "       accuracy: 0.4641\n",
      "   running loss: 1.182e+05\n",
      "epoch 001\n",
      "       accuracy: 0.9507\n",
      "   running loss: 8.699e+03\n",
      "epoch 002\n",
      "       accuracy: 0.9721\n",
      "   running loss: 7.155e+03\n",
      "epoch 003\n",
      "       accuracy: 0.9612\n",
      "   running loss: 6.973e+03\n",
      "epoch 004\n",
      "       accuracy: 0.9552\n",
      "   running loss: 6.964e+03\n",
      "epoch 005\n",
      "       accuracy: 0.9572\n",
      "   running loss: 6.944e+03\n",
      "epoch 006\n",
      "       accuracy: 0.9591\n",
      "   running loss: 6.741e+03\n",
      "epoch 007\n",
      "       accuracy: 0.9524\n",
      "   running loss: 6.605e+03\n",
      "epoch 008\n",
      "       accuracy: 0.9524\n",
      "   running loss: 6.73e+03\n",
      "epoch 009\n",
      "       accuracy: 0.9547\n",
      "   running loss: 6.663e+03\n",
      "epoch 010\n",
      "       accuracy: 0.9551\n",
      "   running loss: 6.63e+03\n",
      "epoch 011\n",
      "       accuracy: 0.954\n",
      "   running loss: 6.615e+03\n",
      "epoch 012\n",
      "       accuracy: 0.9533\n",
      "   running loss: 6.604e+03\n",
      "epoch 013\n",
      "       accuracy: 0.9528\n",
      "   running loss: 6.592e+03\n",
      "epoch 014\n",
      "       accuracy: 0.9523\n",
      "   running loss: 6.57e+03\n",
      "epoch 015\n",
      "       accuracy: 0.9521\n",
      "   running loss: 6.565e+03\n",
      "epoch 016\n",
      "       accuracy: 0.9514\n",
      "   running loss: 6.556e+03\n",
      "epoch 017\n",
      "       accuracy: 0.9513\n",
      "   running loss: 6.585e+03\n",
      "epoch 018\n",
      "       accuracy: 0.9512\n",
      "   running loss: 6.628e+03\n",
      "epoch 019\n",
      "       accuracy: 0.9507\n",
      "   running loss: 6.735e+03\n"
     ]
    }
   ],
   "source": [
    "%run vugrad_residual/experiments/train_mlp.py"
   ]
  },
  {
   "cell_type": "code",
   "execution_count": 4,
   "metadata": {},
   "outputs": [],
   "source": [
    "relu_onelayer_residualconnection_accuracy = accuracy\n",
    "relu_onelayer_residualconnection_trainloss = trainloss"
   ]
  },
  {
   "cell_type": "markdown",
   "metadata": {},
   "source": [
    "## Risidual connection + relu activation + 5 layers"
   ]
  },
  {
   "cell_type": "code",
   "execution_count": 7,
   "metadata": {},
   "outputs": [
    {
     "name": "stdout",
     "output_type": "stream",
     "text": [
      "## loaded data:\n",
      "         number of instances: 60000 in training, 10000 in validation\n",
      " training class distribution: [32654 27346]\n",
      "     val. class distribution: [5506 4494]\n",
      "\n",
      "## Starting training\n",
      "epoch 000\n",
      "       accuracy: 0.4494\n",
      "   running loss: 2.688e+04\n",
      "epoch 001\n",
      "       accuracy: 0.9448\n",
      "   running loss: 8.411e+03\n",
      "epoch 002\n",
      "       accuracy: 0.9695\n",
      "   running loss: 3.203e+03\n",
      "epoch 003\n",
      "       accuracy: 0.9864\n",
      "   running loss: 2.555e+03\n",
      "epoch 004\n",
      "       accuracy: 0.9882\n",
      "   running loss: 2.435e+03\n",
      "epoch 005\n",
      "       accuracy: 0.989\n",
      "   running loss: 2.35e+03\n",
      "epoch 006\n",
      "       accuracy: 0.9897\n",
      "   running loss: 2.302e+03\n",
      "epoch 007\n",
      "       accuracy: 0.9898\n",
      "   running loss: 2.268e+03\n",
      "epoch 008\n",
      "       accuracy: 0.9898\n",
      "   running loss: 2.237e+03\n",
      "epoch 009\n",
      "       accuracy: 0.9903\n",
      "   running loss: 2.216e+03\n",
      "epoch 010\n",
      "       accuracy: 0.9902\n",
      "   running loss: 2.199e+03\n",
      "epoch 011\n",
      "       accuracy: 0.9899\n",
      "   running loss: 2.185e+03\n",
      "epoch 012\n",
      "       accuracy: 0.9896\n",
      "   running loss: 2.175e+03\n",
      "epoch 013\n",
      "       accuracy: 0.9898\n",
      "   running loss: 2.167e+03\n",
      "epoch 014\n",
      "       accuracy: 0.9899\n",
      "   running loss: 2.16e+03\n",
      "epoch 015\n",
      "       accuracy: 0.9895\n",
      "   running loss: 2.155e+03\n",
      "epoch 016\n",
      "       accuracy: 0.9895\n",
      "   running loss: 2.151e+03\n",
      "epoch 017\n",
      "       accuracy: 0.9892\n",
      "   running loss: 2.148e+03\n",
      "epoch 018\n",
      "       accuracy: 0.9894\n",
      "   running loss: 2.144e+03\n",
      "epoch 019\n",
      "       accuracy: 0.9893\n",
      "   running loss: 2.141e+03\n"
     ]
    }
   ],
   "source": [
    "%run vugrad_residual_5_layers_allrelu/experiments/train_mlp.py"
   ]
  },
  {
   "cell_type": "code",
   "execution_count": 8,
   "metadata": {},
   "outputs": [],
   "source": [
    "relu_5_layer_residualconnection_accuracy = accuracy\n",
    "relu_5_layer_residualconnection_trainloss = trainloss"
   ]
  },
  {
   "cell_type": "markdown",
   "metadata": {},
   "source": [
    "## Risidual connection + sigmoid activation + 5 layers"
   ]
  },
  {
   "cell_type": "code",
   "execution_count": 10,
   "metadata": {},
   "outputs": [
    {
     "name": "stdout",
     "output_type": "stream",
     "text": [
      "## loaded data:\n",
      "         number of instances: 60000 in training, 10000 in validation\n",
      " training class distribution: [32642 27358]\n",
      "     val. class distribution: [5488 4512]\n",
      "\n",
      "## Starting training\n",
      "epoch 000\n",
      "       accuracy: 0.4512\n",
      "   running loss: 4.266e+04\n",
      "epoch 001\n",
      "       accuracy: 0.9427\n",
      "   running loss: 9.933e+03\n",
      "epoch 002\n",
      "       accuracy: 0.9408\n",
      "   running loss: 9.554e+03\n",
      "epoch 003\n",
      "       accuracy: 0.9378\n",
      "   running loss: 6.12e+03\n",
      "epoch 004\n",
      "       accuracy: 0.9689\n",
      "   running loss: 5.39e+03\n",
      "epoch 005\n",
      "       accuracy: 0.9685\n",
      "   running loss: 5.282e+03\n",
      "epoch 006\n",
      "       accuracy: 0.968\n",
      "   running loss: 4.8e+03\n",
      "epoch 007\n",
      "       accuracy: 0.9838\n",
      "   running loss: 3.575e+03\n",
      "epoch 008\n",
      "       accuracy: 0.9859\n",
      "   running loss: 3.489e+03\n",
      "epoch 009\n",
      "       accuracy: 0.9844\n",
      "   running loss: 3.402e+03\n",
      "epoch 010\n",
      "       accuracy: 0.9834\n",
      "   running loss: 3.336e+03\n",
      "epoch 011\n",
      "       accuracy: 0.9822\n",
      "   running loss: 3.29e+03\n",
      "epoch 012\n",
      "       accuracy: 0.9817\n",
      "   running loss: 3.257e+03\n",
      "epoch 013\n",
      "       accuracy: 0.9816\n",
      "   running loss: 3.232e+03\n",
      "epoch 014\n",
      "       accuracy: 0.9808\n",
      "   running loss: 3.21e+03\n",
      "epoch 015\n",
      "       accuracy: 0.9803\n",
      "   running loss: 3.193e+03\n",
      "epoch 016\n",
      "       accuracy: 0.98\n",
      "   running loss: 3.178e+03\n",
      "epoch 017\n",
      "       accuracy: 0.9795\n",
      "   running loss: 3.167e+03\n",
      "epoch 018\n",
      "       accuracy: 0.9795\n",
      "   running loss: 3.158e+03\n",
      "epoch 019\n",
      "       accuracy: 0.9796\n",
      "   running loss: 3.153e+03\n"
     ]
    }
   ],
   "source": [
    "%run vugrad_residual_5_layers_allsigmoid/experiments/train_mlp.py"
   ]
  },
  {
   "cell_type": "code",
   "execution_count": 11,
   "metadata": {},
   "outputs": [],
   "source": [
    "sig_5_layer_residualconnection_accuracy = accuracy\n",
    "sig_5_layer_residualconnection_trainloss = trainloss"
   ]
  },
  {
   "cell_type": "markdown",
   "metadata": {},
   "source": [
    "## Sigmoid activation + 5 layers"
   ]
  },
  {
   "cell_type": "code",
   "execution_count": 17,
   "metadata": {},
   "outputs": [
    {
     "name": "stdout",
     "output_type": "stream",
     "text": [
      "## loaded data:\n",
      "         number of instances: 60000 in training, 10000 in validation\n",
      " training class distribution: [32705 27295]\n",
      "     val. class distribution: [5474 4526]\n",
      "\n",
      "## Starting training\n",
      "epoch 000\n",
      "       accuracy: 0.3307\n",
      "   running loss: 1.716e+05\n",
      "epoch 001\n",
      "       accuracy: 0.4526\n",
      "   running loss: 8.338e+04\n",
      "epoch 002\n",
      "       accuracy: 0.4526\n",
      "   running loss: 6.905e+04\n",
      "epoch 003\n",
      "       accuracy: 0.9405\n",
      "   running loss: 1.221e+04\n",
      "epoch 004\n",
      "       accuracy: 0.951\n",
      "   running loss: 9.331e+03\n",
      "epoch 005\n",
      "       accuracy: 0.9525\n",
      "   running loss: 7.32e+03\n",
      "epoch 006\n",
      "       accuracy: 0.9706\n",
      "   running loss: 5.549e+03\n",
      "epoch 007\n",
      "       accuracy: 0.9738\n",
      "   running loss: 5.242e+03\n",
      "epoch 008\n",
      "       accuracy: 0.9751\n",
      "   running loss: 5.112e+03\n",
      "epoch 009\n",
      "       accuracy: 0.9754\n",
      "   running loss: 5.114e+03\n",
      "epoch 010\n",
      "       accuracy: 0.9755\n",
      "   running loss: 5.087e+03\n",
      "epoch 011\n",
      "       accuracy: 0.9764\n",
      "   running loss: 5.092e+03\n",
      "epoch 012\n",
      "       accuracy: 0.976\n",
      "   running loss: 5.077e+03\n",
      "epoch 013\n",
      "       accuracy: 0.9762\n",
      "   running loss: 5.041e+03\n",
      "epoch 014\n",
      "       accuracy: 0.977\n",
      "   running loss: 5.081e+03\n",
      "epoch 015\n",
      "       accuracy: 0.9769\n",
      "   running loss: 5.043e+03\n",
      "epoch 016\n",
      "       accuracy: 0.9776\n",
      "   running loss: 4.95e+03\n",
      "epoch 017\n",
      "       accuracy: 0.9772\n",
      "   running loss: 5.023e+03\n",
      "epoch 018\n",
      "       accuracy: 0.9748\n",
      "   running loss: 4.896e+03\n",
      "epoch 019\n",
      "       accuracy: 0.9728\n",
      "   running loss: 4.88e+03\n"
     ]
    }
   ],
   "source": [
    "%run vugrad_5_layers_allsigmoid/experiments/train_mlp.py"
   ]
  },
  {
   "cell_type": "code",
   "execution_count": 18,
   "metadata": {},
   "outputs": [],
   "source": [
    "sig_5_layer_accuracy = accuracy\n",
    "sig_5_layer_trainloss = trainloss"
   ]
  },
  {
   "cell_type": "markdown",
   "metadata": {},
   "source": [
    "## Without glorot initialization \n",
    "\n",
    "###### set W all start at 1"
   ]
  },
  {
   "cell_type": "code",
   "execution_count": 31,
   "metadata": {},
   "outputs": [],
   "source": [
    "relu_onlayer_withoutGlorot_trainloss =[]"
   ]
  },
  {
   "cell_type": "code",
   "execution_count": 49,
   "metadata": {},
   "outputs": [
    {
     "name": "stdout",
     "output_type": "stream",
     "text": [
      "## loaded data:\n",
      "         number of instances: 60000 in training, 10000 in validation\n",
      " training class distribution: [32756 27244]\n",
      "     val. class distribution: [5423 4577]\n",
      "\n",
      "## Starting training\n",
      "epoch 000\n",
      "       accuracy: 0.5423\n",
      "   running loss: 1.729e+05\n",
      "epoch 001\n",
      "       accuracy: 0.4901\n",
      "   running loss: 1.69e+05\n",
      "epoch 002\n",
      "       accuracy: 0.5423\n",
      "   running loss: 1.705e+05\n",
      "epoch 003\n",
      "       accuracy: 0.5423\n",
      "   running loss: 1.705e+05\n",
      "epoch 004\n",
      "       accuracy: 0.5423\n",
      "   running loss: 1.705e+05\n",
      "epoch 005\n",
      "       accuracy: 0.5423\n",
      "   running loss: 1.705e+05\n",
      "epoch 006\n",
      "       accuracy: 0.5423\n",
      "   running loss: 1.703e+05\n",
      "epoch 007\n",
      "       accuracy: 0.5423\n",
      "   running loss: 1.702e+05\n",
      "epoch 008\n",
      "       accuracy: 0.5423\n",
      "   running loss: 1.701e+05\n",
      "epoch 009\n",
      "       accuracy: 0.5423\n",
      "   running loss: 1.689e+05\n",
      "epoch 010\n",
      "       accuracy: 0.5423\n",
      "   running loss: 1.691e+05\n",
      "epoch 011\n",
      "       accuracy: 0.5423\n",
      "   running loss: 1.693e+05\n",
      "epoch 012\n",
      "       accuracy: 0.5423\n",
      "   running loss: 1.692e+05\n",
      "epoch 013\n",
      "       accuracy: 0.5423\n",
      "   running loss: 1.692e+05\n",
      "epoch 014\n",
      "       accuracy: 0.5423\n",
      "   running loss: 1.692e+05\n",
      "epoch 015\n",
      "       accuracy: 0.5423\n",
      "   running loss: 1.694e+05\n",
      "epoch 016\n",
      "       accuracy: 0.5423\n",
      "   running loss: 1.694e+05\n",
      "epoch 017\n",
      "       accuracy: 0.5423\n",
      "   running loss: 1.695e+05\n",
      "epoch 018\n",
      "       accuracy: 0.5423\n",
      "   running loss: 1.695e+05\n",
      "epoch 019\n",
      "       accuracy: 0.5423\n",
      "   running loss: 1.695e+05\n"
     ]
    }
   ],
   "source": [
    "%run vugrad_without_Glorot/experiments/train_mlp.py"
   ]
  },
  {
   "cell_type": "code",
   "execution_count": 50,
   "metadata": {},
   "outputs": [],
   "source": [
    "relu_onlayer_withoutGlorot_trainloss.append(trainloss)"
   ]
  },
  {
   "cell_type": "code",
   "execution_count": 21,
   "metadata": {},
   "outputs": [],
   "source": [
    "import matplotlib.pyplot as plt "
   ]
  },
  {
   "cell_type": "markdown",
   "metadata": {},
   "source": [
    "## Glorot initialization insight"
   ]
  },
  {
   "cell_type": "code",
   "execution_count": 19,
   "metadata": {},
   "outputs": [],
   "source": [
    "epochs = ['1','2','3','4','5','6','7','8','9','10','11','12','13','14','15','16','17','18','19','2-']"
   ]
  },
  {
   "cell_type": "code",
   "execution_count": 104,
   "metadata": {},
   "outputs": [
    {
     "data": {
      "image/png": "[encoded data removed]",
      "text/plain": [
       "<Figure size 432x288 with 1 Axes>"
      ]
     },
     "metadata": {
      "needs_background": "light"
     },
     "output_type": "display_data"
    }
   ],
   "source": [
    "plt.plot(epochs,np.array(relu_onlayer_withoutGlorot_trainloss[0]), color = 'red', linewidth = 1,alpha=1)             \n",
    "plt.plot(epochs,np.array(relu_onlayer_withoutGlorot_trainloss[1]), color =  'orange', linewidth = 1,alpha=1) \n",
    "plt.plot(epochs,np.array(relu_onlayer_withoutGlorot_trainloss[2]), color = 'yellow', linewidth = 1,alpha=1) \n",
    "plt.plot(epochs,np.array(relu_onlayer_withoutGlorot_trainloss[3]), color = 'green', linewidth = 1,alpha=1) \n",
    "plt.plot(epochs,np.array(relu_onlayer_withoutGlorot_trainloss[4]), color = 'blue', linewidth = 1,alpha=1) \n",
    "plt.plot(epochs,np.array(relu_onlayer_withoutGlorot_trainloss[5]), color = 'purple', linewidth = 1,alpha=1) \n",
    "plt.plot(epochs,np.array(relu_onlayer_withoutGlorot_trainloss[6]), color = 'c', linewidth = 1,alpha=1) \n",
    "plt.plot(epochs,np.array(relu_onlayer_withoutGlorot_trainloss[7]), color = 'grey', linewidth = 1,alpha=1) \n",
    "plt.plot(epochs,np.array(relu_onlayer_withoutGlorot_trainloss[8]), color = 'black', linewidth = 1,alpha=1) \n",
    "plt.plot(epochs,np.array(relu_onlayer_withoutGlorot_trainloss[9]), color = 'm', linewidth = 1,alpha=1) \n",
    "plt.xlabel(\"epoch\")\n",
    "plt.ylabel(\"train loss\")\n",
    "plt.show()          "
   ]
  },
  {
   "cell_type": "code",
   "execution_count": 105,
   "metadata": {},
   "outputs": [
    {
     "data": {
      "image/png": "[encoded data removed]",
      "text/plain": [
       "<Figure size 432x288 with 1 Axes>"
      ]
     },
     "metadata": {
      "needs_background": "light"
     },
     "output_type": "display_data"
    }
   ],
   "source": [
    "plt.plot(epochs,np.array(original[0]), color = 'red', linewidth = 1,alpha=1)             \n",
    "plt.plot(epochs,np.array(original[1]), color =  'orange', linewidth = 1,alpha=1) \n",
    "plt.plot(epochs,np.array(original[2]), color = 'yellow', linewidth = 1,alpha=1) \n",
    "plt.plot(epochs,np.array(original[3]), color = 'green', linewidth = 1,alpha=1) \n",
    "plt.plot(epochs,np.array(original[4]), color = 'blue', linewidth = 1,alpha=1) \n",
    "plt.plot(epochs,np.array(original[5]), color = 'purple', linewidth = 1,alpha=1) \n",
    "plt.plot(epochs,np.array(original[6]), color = 'c', linewidth = 1,alpha=1) \n",
    "plt.plot(epochs,np.array(original[7]), color = 'grey', linewidth = 1,alpha=1) \n",
    "plt.plot(epochs,np.array(original[8]), color = 'black', linewidth = 1,alpha=1) \n",
    "plt.plot(epochs,np.array(original[9]), color = 'm', linewidth = 1,alpha=1) \n",
    "plt.xlabel(\"epoch\")\n",
    "plt.ylabel(\"train loss\")\n",
    "plt.show() "
   ]
  },
  {
   "cell_type": "markdown",
   "metadata": {},
   "source": [
    "## Residual connection, hidden layers, activation functions insight"
   ]
  },
  {
   "cell_type": "code",
   "execution_count": 52,
   "metadata": {},
   "outputs": [
    {
     "data": {
      "text/plain": [
       "[99.77174894068588,\n",
       " 117.96298553020061,\n",
       " 112.73464009517488,\n",
       " 108.45644882372602,\n",
       " 110.15586886033535,\n",
       " 85.70200445083022,\n",
       " 78.53694822905814,\n",
       " 72.45407622577088,\n",
       " 104.49782711783574,\n",
       " 108.99538673347864,\n",
       " 59.5226636263766,\n",
       " 14.878679598370168,\n",
       " 14.766451963957103,\n",
       " 14.7515973656685,\n",
       " 14.75200673853025,\n",
       " 14.009254922837812,\n",
       " 16.230736100113745,\n",
       " 15.63764324606296,\n",
       " 14.182887560667211,\n",
       " 13.426191420289836]"
      ]
     },
     "execution_count": 52,
     "metadata": {},
     "output_type": "execute_result"
    }
   ],
   "source": [
    "plt.plot(epochs,sig_onelayer_accuracy, color = 'red', linewidth = 1,alpha=1,label='line1')             \n",
    "plt.plot(epochs,relu_onelayer_residualconnection_accuracy, color = 'orange', linewidth = 1,alpha=0.5,label='line2') \n",
    "plt.plot(epochs,relu_5_layer_residualconnection_accuracy, color = 'yellow', linewidth = 1,alpha=0.5,label='line3')             \n",
    "plt.plot(epochs,sig_5_layer_residualconnection_accuracy, color = 'green', linewidth = 1,alpha=0.5,label='line4')             \n",
    "plt.plot(epochs,sig_5_layer_accuracy, color = 'blue', linewidth = 1,alpha=0.5,label='line5')\n",
    "plt.legend(['sig+onelayer', 'relu+onelayer+residual connection','relu+5layers+residual connection',\n",
    "            'sig+5layers+residual connection','sig+5layer'])\n",
    "plt.xlabel(\"epoch\")\n",
    "plt.ylabel(\"accuracy\")\n",
    "plt.show()  "
   ]
  }
 ],
 "metadata": {
  "kernelspec": {
   "display_name": "Python 3",
   "language": "python",
   "name": "python3"
  },
  "language_info": {
   "codemirror_mode": {
    "name": "ipython",
    "version": 3
   },
   "file_extension": ".py",
   "mimetype": "text/x-python",
   "name": "python",
   "nbconvert_exporter": "python",
   "pygments_lexer": "ipython3",
   "version": "3.8.3"
  }
 },
 "nbformat": 4,
 "nbformat_minor": 4
}
