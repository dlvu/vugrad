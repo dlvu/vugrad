{
 "cells": [
  {
   "cell_type": "code",
   "execution_count": 1,
   "metadata": {},
   "outputs": [],
   "source": [
    "%matplotlib inline"
   ]
  },
  {
   "cell_type": "markdown",
   "metadata": {},
   "source": [
    "#### Since my laptop does not have GPU. I install pytorch torchvision by ```conda install pytorch torchvision -c soumith``` in conda"
   ]
  },
  {
   "cell_type": "code",
   "execution_count": 1,
   "metadata": {},
   "outputs": [
    {
     "name": "stdout",
     "output_type": "stream",
     "text": [
      "Looking in links: https://download.pytorch.org/whl/torch_stable.html\n",
      "Requirement already satisfied: torch===1.7.0 in c:\\users\\user\\miniconda3\\lib\\site-packages (1.7.0)\n",
      "Requirement already satisfied: torchvision===0.8.1 in c:\\users\\user\\miniconda3\\lib\\site-packages (0.8.1)\n",
      "Requirement already satisfied: torchaudio===0.7.0 in c:\\users\\user\\miniconda3\\lib\\site-packages (0.7.0)Note: you may need to restart the kernel to use updated packages.\n",
      "\n",
      "Requirement already satisfied: typing-extensions in c:\\users\\user\\miniconda3\\lib\\site-packages (from torch===1.7.0) (3.7.4.3)\n",
      "Requirement already satisfied: future in c:\\users\\user\\miniconda3\\lib\\site-packages (from torch===1.7.0) (0.18.2)\n",
      "Requirement already satisfied: numpy in c:\\users\\user\\miniconda3\\lib\\site-packages (from torch===1.7.0) (1.19.2)\n",
      "Requirement already satisfied: dataclasses in c:\\users\\user\\miniconda3\\lib\\site-packages (from torch===1.7.0) (0.6)\n",
      "Requirement already satisfied: pillow>=4.1.1 in c:\\users\\user\\miniconda3\\lib\\site-packages (from torchvision===0.8.1) (8.0.1)\n"
     ]
    }
   ],
   "source": [
    "pip install torch===1.7.0 torchvision===0.8.1 torchaudio===0.7.0 -f https://download.pytorch.org/whl/torch_stable.html"
   ]
  },
  {
   "cell_type": "code",
   "execution_count": 3,
   "metadata": {},
   "outputs": [],
   "source": [
    "import torch\n",
    "import torchvision\n",
    "import torchvision.transforms as transforms"
   ]
  },
  {
   "cell_type": "code",
   "execution_count": 4,
   "metadata": {},
   "outputs": [
    {
     "name": "stdout",
     "output_type": "stream",
     "text": [
      "cpu\n"
     ]
    }
   ],
   "source": [
    "device = torch.device(\"cuda:0\" if torch.cuda.is_available() else \"cpu\")\n",
    "\n",
    "# Assuming that I am using CPU\n",
    "\n",
    "print(device)"
   ]
  },
  {
   "cell_type": "code",
   "execution_count": 5,
   "metadata": {},
   "outputs": [
    {
     "name": "stdout",
     "output_type": "stream",
     "text": [
      "Files already downloaded and verified\n",
      "Files already downloaded and verified\n"
     ]
    }
   ],
   "source": [
    "transform = transforms.Compose(\n",
    "    [transforms.ToTensor(),\n",
    "     transforms.Normalize((0.5, 0.5, 0.5), (0.5, 0.5, 0.5))])\n",
    "\n",
    "trainset = torchvision.datasets.CIFAR10(root='./data', train=True,\n",
    "                                        download=True, transform=transform)\n",
    "trainloader = torch.utils.data.DataLoader(trainset, batch_size=4,\n",
    "                                          shuffle=True, num_workers=0)\n",
    "\n",
    "testset = torchvision.datasets.CIFAR10(root='./data', train=False,\n",
    "                                       download=True, transform=transform)\n",
    "testloader = torch.utils.data.DataLoader(testset, batch_size=4,\n",
    "                                         shuffle=False, num_workers=0)\n",
    "\n",
    "classes = ('plane', 'car', 'bird', 'cat',\n",
    "           'deer', 'dog', 'frog', 'horse', 'ship', 'truck')"
   ]
  },
  {
   "cell_type": "code",
   "execution_count": 6,
   "metadata": {},
   "outputs": [],
   "source": [
    "import matplotlib.pyplot as plt\n",
    "import numpy as np"
   ]
  },
  {
   "cell_type": "markdown",
   "metadata": {},
   "source": [
    "Define a Convolutional Neural Network ^^^^^^^^^^^^^^^^^^^^^^^^^^^^^^^^^^^^^^ Copy the neural network from the Neural Networks section before and modify it to take 3-channel images (instead of 1-channel images as it was defined)."
   ]
  },
  {
   "cell_type": "code",
   "execution_count": 7,
   "metadata": {},
   "outputs": [],
   "source": [
    "import torch.nn as nn\n",
    "import torch.nn.functional as F\n",
    "\n",
    "\n",
    "class Net(nn.Module):\n",
    "    def __init__(self):\n",
    "        super(Net, self).__init__()\n",
    "        self.conv1 = nn.Conv2d(3, 6, 5)\n",
    "        self.pool = nn.MaxPool2d(2, 2)\n",
    "        self.conv2 = nn.Conv2d(6, 16, 5)\n",
    "        self.fc1 = nn.Linear(16 * 5 * 5, 120)\n",
    "        self.fc2 = nn.Linear(120, 84)\n",
    "        self.fc3 = nn.Linear(84, 10)\n",
    "\n",
    "    def forward(self, x):\n",
    "        x = self.pool(F.relu(self.conv1(x)))\n",
    "        x = self.pool(F.relu(self.conv2(x)))\n",
    "        x = x.view(-1, 16 * 5 * 5)\n",
    "        x = F.relu(self.fc1(x))\n",
    "        x = F.relu(self.fc2(x))\n",
    "        x = self.fc3(x)\n",
    "        return x\n",
    "\n",
    "\n",
    "net = Net()"
   ]
  },
  {
   "cell_type": "markdown",
   "metadata": {},
   "source": [
    "Define a Loss function and optimizer ^^^^^^^^^^^^^^^^^^^^^^^^^^^^^^^^^^^^^^^ Let's use a Classification Cross-Entropy loss and SGD with momentum."
   ]
  },
  {
   "cell_type": "code",
   "execution_count": 8,
   "metadata": {},
   "outputs": [],
   "source": [
    "import torch.optim as optim\n",
    "\n",
    "criterion = nn.CrossEntropyLoss()\n",
    "optimizer = optim.SGD(net.parameters(), lr=0.0001, momentum=0.9)"
   ]
  },
  {
   "cell_type": "markdown",
   "metadata": {},
   "source": [
    "Train the network ^^^^^^^^^^^^^^^^^^^^"
   ]
  },
  {
   "cell_type": "markdown",
   "metadata": {},
   "source": [
    "## My hyperparameters\n",
    "###### epoch = 20, learning rate = 0.0001, mini-batches = 3000"
   ]
  },
  {
   "cell_type": "code",
   "execution_count": 9,
   "metadata": {},
   "outputs": [
    {
     "name": "stdout",
     "output_type": "stream",
     "text": [
      "[1,  3000] loss: 3.454\n",
      "[1,  6000] loss: 3.452\n",
      "[1,  9000] loss: 3.447\n",
      "[1, 12000] loss: 3.433\n",
      "[2,  3000] loss: 3.328\n",
      "[2,  6000] loss: 3.154\n",
      "[2,  9000] loss: 2.964\n",
      "[2, 12000] loss: 2.841\n",
      "[3,  3000] loss: 2.743\n",
      "[3,  6000] loss: 2.621\n",
      "[3,  9000] loss: 2.532\n",
      "[3, 12000] loss: 2.456\n",
      "[4,  3000] loss: 2.373\n",
      "[4,  6000] loss: 2.375\n",
      "[4,  9000] loss: 2.341\n",
      "[4, 12000] loss: 2.308\n",
      "[5,  3000] loss: 2.240\n",
      "[5,  6000] loss: 2.218\n",
      "[5,  9000] loss: 2.209\n",
      "[5, 12000] loss: 2.177\n",
      "[6,  3000] loss: 2.136\n",
      "[6,  6000] loss: 2.123\n",
      "[6,  9000] loss: 2.091\n",
      "[6, 12000] loss: 2.054\n",
      "[7,  3000] loss: 2.035\n",
      "[7,  6000] loss: 2.017\n",
      "[7,  9000] loss: 2.009\n",
      "[7, 12000] loss: 1.975\n",
      "[8,  3000] loss: 1.949\n",
      "[8,  6000] loss: 1.953\n",
      "[8,  9000] loss: 1.917\n",
      "[8, 12000] loss: 1.905\n",
      "[9,  3000] loss: 1.864\n",
      "[9,  6000] loss: 1.876\n",
      "[9,  9000] loss: 1.846\n",
      "[9, 12000] loss: 1.854\n",
      "[10,  3000] loss: 1.800\n",
      "[10,  6000] loss: 1.806\n",
      "[10,  9000] loss: 1.804\n",
      "[10, 12000] loss: 1.778\n",
      "[11,  3000] loss: 1.766\n",
      "[11,  6000] loss: 1.725\n",
      "[11,  9000] loss: 1.737\n",
      "[11, 12000] loss: 1.719\n",
      "[12,  3000] loss: 1.671\n",
      "[12,  6000] loss: 1.724\n",
      "[12,  9000] loss: 1.684\n",
      "[12, 12000] loss: 1.681\n",
      "[13,  3000] loss: 1.637\n",
      "[13,  6000] loss: 1.628\n",
      "[13,  9000] loss: 1.668\n",
      "[13, 12000] loss: 1.633\n",
      "[14,  3000] loss: 1.602\n",
      "[14,  6000] loss: 1.608\n",
      "[14,  9000] loss: 1.583\n",
      "[14, 12000] loss: 1.605\n",
      "[15,  3000] loss: 1.550\n",
      "[15,  6000] loss: 1.548\n",
      "[15,  9000] loss: 1.565\n",
      "[15, 12000] loss: 1.564\n",
      "[16,  3000] loss: 1.501\n",
      "[16,  6000] loss: 1.499\n",
      "[16,  9000] loss: 1.526\n",
      "[16, 12000] loss: 1.535\n",
      "[17,  3000] loss: 1.466\n",
      "[17,  6000] loss: 1.476\n",
      "[17,  9000] loss: 1.492\n",
      "[17, 12000] loss: 1.486\n",
      "[18,  3000] loss: 1.442\n",
      "[18,  6000] loss: 1.435\n",
      "[18,  9000] loss: 1.452\n",
      "[18, 12000] loss: 1.449\n",
      "[19,  3000] loss: 1.413\n",
      "[19,  6000] loss: 1.402\n",
      "[19,  9000] loss: 1.415\n",
      "[19, 12000] loss: 1.410\n",
      "[20,  3000] loss: 1.366\n",
      "[20,  6000] loss: 1.374\n",
      "[20,  9000] loss: 1.367\n",
      "[20, 12000] loss: 1.394\n",
      "Finished Training\n"
     ]
    }
   ],
   "source": [
    "for epoch in range(20):  # loop over the dataset multiple times\n",
    "\n",
    "    running_loss = 0.0\n",
    "    for i, data in enumerate(trainloader, 0):\n",
    "        # get the inputs; data is a list of [inputs, labels]\n",
    "        inputs, labels = data\n",
    "\n",
    "        # zero the parameter gradients\n",
    "        optimizer.zero_grad()\n",
    "\n",
    "        # forward + backward + optimize\n",
    "        outputs = net(inputs)\n",
    "        loss = criterion(outputs, labels)\n",
    "        loss.backward()\n",
    "        optimizer.step()\n",
    "\n",
    "        # print statistics\n",
    "        running_loss += loss.item()\n",
    "        if i % 3000 == 2999:    # print every 2000 mini-batches\n",
    "            print('[%d, %5d] loss: %.3f' %\n",
    "                  (epoch + 1, i + 1, running_loss / 2000))\n",
    "            running_loss = 0.0\n",
    "\n",
    "print('Finished Training')"
   ]
  },
  {
   "cell_type": "markdown",
   "metadata": {},
   "source": [
    "## My result: train loss\n",
    "````\n",
    "[1,  3000] loss: 1.834\n",
    "[1,  6000] loss: 1.764\n",
    "[1,  9000] loss: 1.765\n",
    "[1, 12000] loss: 1.747\n",
    "[2,  3000] loss: 1.652\n",
    "[2,  6000] loss: 1.651\n",
    "[2,  9000] loss: 1.654\n",
    "[2, 12000] loss: 1.656\n",
    "[3,  3000] loss: 1.551\n",
    "[3,  6000] loss: 1.526\n",
    "[3,  9000] loss: 1.579\n",
    "[3, 12000] loss: 1.529\n",
    "[4,  3000] loss: 1.432\n",
    "[4,  6000] loss: 1.453\n",
    "[4,  9000] loss: 1.483\n",
    "[4, 12000] loss: 1.492\n",
    "[5,  3000] loss: 1.328\n",
    "[5,  6000] loss: 1.411\n",
    "[5,  9000] loss: 1.413\n",
    "[5, 12000] loss: 1.447\n",
    "[6,  3000] loss: 1.288\n",
    "[6,  6000] loss: 1.333\n",
    "[6,  9000] loss: 1.355\n",
    "[6, 12000] loss: 1.386\n",
    "[7,  3000] loss: 1.234\n",
    "[7,  6000] loss: 1.272\n",
    "[7,  9000] loss: 1.333\n",
    "[7, 12000] loss: 1.330\n",
    "[8,  3000] loss: 1.181\n",
    "[8,  6000] loss: 1.252\n",
    "[8,  9000] loss: 1.293\n",
    "[8, 12000] loss: 1.263\n",
    "[9,  3000] loss: 1.155\n",
    "[9,  6000] loss: 1.187\n",
    "[9,  9000] loss: 1.245\n",
    "[9, 12000] loss: 1.255\n",
    "[10,  3000] loss: 1.087\n",
    "[10,  6000] loss: 1.154\n",
    "[10,  9000] loss: 1.202\n",
    "[10, 12000] loss: 1.223\n",
    "[11,  3000] loss: 1.059\n",
    "[11,  6000] loss: 1.130\n",
    "[11,  9000] loss: 1.182\n",
    "[11, 12000] loss: 1.201\n",
    "[12,  3000] loss: 1.026\n",
    "[12,  6000] loss: 1.084\n",
    "[12,  9000] loss: 1.151\n",
    "[12, 12000] loss: 1.164\n",
    "[13,  3000] loss: 1.004\n",
    "[13,  6000] loss: 1.105\n",
    "[13,  9000] loss: 1.113\n",
    "[13, 12000] loss: 1.133\n",
    "[14,  3000] loss: 0.984\n",
    "[14,  6000] loss: 1.049\n",
    "[14,  9000] loss: 1.092\n",
    "[14, 12000] loss: 1.137\n",
    "[15,  3000] loss: 0.964\n",
    "[15,  6000] loss: 1.045\n",
    "[15,  9000] loss: 1.087\n",
    "[15, 12000] loss: 1.097\n",
    "[16,  3000] loss: 0.938\n",
    "[16,  6000] loss: 1.000\n",
    "[16,  9000] loss: 1.059\n",
    "[16, 12000] loss: 1.089\n",
    "[17,  3000] loss: 0.939\n",
    "[17,  6000] loss: 1.008\n",
    "[17,  9000] loss: 1.051\n",
    "[17, 12000] loss: 1.065\n",
    "[18,  3000] loss: 0.934\n",
    "[18,  6000] loss: 0.967\n",
    "[18,  9000] loss: 1.038\n",
    "[18, 12000] loss: 1.052\n",
    "[19,  3000] loss: 0.923\n",
    "[19,  6000] loss: 0.947\n",
    "[19,  9000] loss: 1.009\n",
    "[19, 12000] loss: 1.050\n",
    "[20,  3000] loss: 0.903\n",
    "[20,  6000] loss: 0.928\n",
    "[20,  9000] loss: 1.010\n",
    "[20, 12000] loss: 1.051\n",
    "Finished Training\n",
    "````"
   ]
  },
  {
   "cell_type": "code",
   "execution_count": 9,
   "metadata": {},
   "outputs": [
    {
     "name": "stdout",
     "output_type": "stream",
     "text": [
      "Predicted:   bird   car  deer   car\n"
     ]
    }
   ],
   "source": [
    "_, predicted = torch.max(outputs, 1)\n",
    "\n",
    "print('Predicted: ', ' '.join('%5s' % classes[predicted[j]]\n",
    "                              for j in range(4)))"
   ]
  },
  {
   "cell_type": "code",
   "execution_count": 11,
   "metadata": {},
   "outputs": [],
   "source": [
    "_, predicted = torch.max(outputs, 1)"
   ]
  },
  {
   "cell_type": "markdown",
   "metadata": {},
   "source": [
    "# Accuarcy test"
   ]
  },
  {
   "cell_type": "code",
   "execution_count": 14,
   "metadata": {},
   "outputs": [
    {
     "name": "stdout",
     "output_type": "stream",
     "text": [
      "Accuracy of the network on the 10000 test images: 60 %\n"
     ]
    }
   ],
   "source": [
    "correct = 0\n",
    "total = 0\n",
    "with torch.no_grad():\n",
    "    for data in testloader:\n",
    "        images, labels = data\n",
    "        outputs = net(images)\n",
    "        _, predicted = torch.max(outputs.data, 1)\n",
    "        total += labels.size(0)\n",
    "        correct += (predicted == labels).sum().item()\n",
    "\n",
    "print('Accuracy of the network on the 10000 test images: %d %%' % (\n",
    "    100 * correct / total))"
   ]
  },
  {
   "cell_type": "markdown",
   "metadata": {},
   "source": [
    "## My result:\n",
    "Accuracy of the network on the 10000 test images: 60 %"
   ]
  },
  {
   "cell_type": "code",
   "execution_count": null,
   "metadata": {},
   "outputs": [],
   "source": []
  }
 ],
 "metadata": {
  "kernelspec": {
   "display_name": "Python 3",
   "language": "python",
   "name": "python3"
  },
  "language_info": {
   "codemirror_mode": {
    "name": "ipython",
    "version": 3
   },
   "file_extension": ".py",
   "mimetype": "text/x-python",
   "name": "python",
   "nbconvert_exporter": "python",
   "pygments_lexer": "ipython3",
   "version": "3.8.3"
  }
 },
 "nbformat": 4,
 "nbformat_minor": 4
}
